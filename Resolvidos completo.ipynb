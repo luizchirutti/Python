{
 "cells": [
  {
   "cell_type": "markdown",
   "metadata": {},
   "source": [
    "Faça um Programa que peça o raio de um círculo, calcule e mostre sua área."
   ]
  },
  {
   "cell_type": "code",
   "execution_count": 3,
   "metadata": {},
   "outputs": [
    {
     "name": "stdout",
     "output_type": "stream",
     "text": [
      "Digite o raio5\n",
      "A area do circulo de raio 5 é 7.9e+01\n"
     ]
    }
   ],
   "source": [
    "import math\n",
    "raio = int(input (\"Digite o raio\"))\n",
    "#type (raio)\n",
    "area = math.pi * (raio**2)\n",
    "print (f'A area do circulo de raio {raio} é {area:{5}.{2}}')"
   ]
  },
  {
   "cell_type": "markdown",
   "metadata": {},
   "source": [
    "Faça um Programa que pergunte quanto você ganha por hora e o número de horas\n",
    "trabalhadas no mês. Calcule e mostre o total do seu salário no referido mês."
   ]
  },
  {
   "cell_type": "code",
   "execution_count": 10,
   "metadata": {},
   "outputs": [
    {
     "name": "stdout",
     "output_type": "stream",
     "text": [
      "Digite o valor da hora15\n",
      "Digite a qauntidade de horas trabalhadas15\n",
      "Com valor de hora 15.000000 e tendo trabalhado 15.000000 horas, você ganhara 225.000000\n",
      "\n"
     ]
    }
   ],
   "source": [
    "import math\n",
    "valor_hora = float(input (\"Digite o valor da hora\"))\n",
    "numero_horas = float(input(\"Digite a qauntidade de horas trabalhadas\"))\n",
    "total = valor_hora * numero_horas\n",
    "print ('Com valor de hora %.2f e tendo trabalhado %.2f horas, você ganhara %.2f\\n' % (valor_hora, numero_horas, total))"
   ]
  },
  {
   "cell_type": "markdown",
   "metadata": {},
   "source": [
    "João Papo-de-Pescador, homem de bem, comprou um microcomputador para\n",
    "controlar o rendimento diário de seu trabalho. Toda vez que ele traz um peso de\n",
    "peixes maior que o estabelecido pelo regulamento de pesca do estado de São Paulo\n",
    "(50 quilos) deve pagar uma multa de R$ 4,00 por quilo excedente. João precisa que\n",
    "você faça um programa que leia a variável peso (peso de peixes) e verifique se há\n",
    "excesso. Se houver, gravar na variável excesso e na variável multa o valor da multa\n",
    "que João deverá pagar. Caso contrário mostrar tais variáveis com o conteúdo ZERO."
   ]
  },
  {
   "cell_type": "code",
   "execution_count": 11,
   "metadata": {},
   "outputs": [
    {
     "name": "stdout",
     "output_type": "stream",
     "text": [
      "Digite o peso de peixes56\n",
      "Excesso: 6.0, Multa: 24.0\n"
     ]
    }
   ],
   "source": [
    "peso_peixes = float (input (\"Digite o peso de peixes\"))\n",
    "excesso = 0\n",
    "multa = 0\n",
    "if peso_peixes > 50:\n",
    "    excesso = peso_peixes - 50\n",
    "    multa = 4 * excesso\n",
    "print ('Excesso: {}, Multa: {}'.format (excesso, multa))    "
   ]
  },
  {
   "cell_type": "markdown",
   "metadata": {},
   "source": [
    " Faça um Programa que calcule a área de um quadrado, em seguida mostre o dobro\n",
    "desta área para o usuário.\n"
   ]
  },
  {
   "cell_type": "code",
   "execution_count": 1,
   "metadata": {},
   "outputs": [
    {
     "name": "stdout",
     "output_type": "stream",
     "text": [
      "Digite um lado do quadrado5\n",
      "A area do quadrado é 25 \n"
     ]
    }
   ],
   "source": [
    "lado_quadrado = int (input(\"Digite um lado do quadrado\"))\n",
    "area = lado_quadrado * lado_quadrado\n",
    "print (f'A area do quadrado é {area} ')"
   ]
  },
  {
   "cell_type": "markdown",
   "metadata": {},
   "source": [
    "Faça um Programa que peça a temperatura em graus Farenheit, transforme e\n",
    "mostre a temperatura em graus Celsius. C = (5 * (F-32) / 9)."
   ]
  },
  {
   "cell_type": "code",
   "execution_count": 7,
   "metadata": {},
   "outputs": [
    {
     "name": "stdout",
     "output_type": "stream",
     "text": [
      "Digite a temperatura em Farenheit 70\n",
      "A temperatura em graus Celsius é  21.1 \n"
     ]
    }
   ],
   "source": [
    "import math\n",
    "temperatura_farenheit = float(input(\"Digite a temperatura em Farenheit \"))\n",
    "temperatura_celsius = (5 * (temperatura_farenheit -32) / 9)\n",
    "print (f'A temperatura em graus Celsius é {temperatura_celsius:{5}.{3}} ')"
   ]
  },
  {
   "cell_type": "markdown",
   "metadata": {},
   "source": [
    " Faça um Programa que peça a temperatura em graus Celsius, transforme e mostre\n",
    "em graus Farenheit."
   ]
  },
  {
   "cell_type": "code",
   "execution_count": 15,
   "metadata": {},
   "outputs": [
    {
     "name": "stdout",
     "output_type": "stream",
     "text": [
      "Digite a temperatura em Celsius 30\n",
      "A temperatura em farenheit é  84.0 \n"
     ]
    }
   ],
   "source": [
    "import math\n",
    "temperatura_celsius = float(input(\"Digite a temperatura em Celsius \"))\n",
    "temperatura_farenheit = (9 * (temperatura_celsius  / 5) + temperatura_celsius)\n",
    "print (f'A temperatura em farenheit é {temperatura_farenheit:{5}.{5}} ')"
   ]
  },
  {
   "cell_type": "markdown",
   "metadata": {},
   "source": [
    "Faça um Programa que peça 2 números inteiros e um número real. Calcule e\n",
    "mostre:\n",
    "- o produto do dobro do primeiro com metade do segundo .\n",
    "- a soma do triplo do primeiro com o terceiro.\n",
    "- o terceiro elevado ao cubo."
   ]
  },
  {
   "cell_type": "code",
   "execution_count": 16,
   "metadata": {},
   "outputs": [
    {
     "name": "stdout",
     "output_type": "stream",
     "text": [
      "Digite o primeiro numero5\n",
      "Digite o segundo numero3\n",
      "Digite o terceiro numero4\n",
      "o produto do dobro do primeiro com metade do segundo é 11.5\n",
      "a soma do triplo do primeiro com o terceiroé 19\n",
      "o terceiro elevado ao cubo é 64\n"
     ]
    }
   ],
   "source": [
    "import math\n",
    "num_1 = int(input (\"Digite o primeiro numero\"))\n",
    "num_2 = int(input (\"Digite o segundo numero\"))\n",
    "num_3 = int(input (\"Digite o terceiro numero\"))\n",
    "calc_1 = ((num_1 * 2) + (num_2 / 2))\n",
    "calc_2 = ((num_1 * 3) + num_3)\n",
    "calc_3 = (num_3 **3)\n",
    "print (f'o produto do dobro do primeiro com metade do segundo é {calc_1}')\n",
    "print (f'a soma do triplo do primeiro com o terceiroé {calc_2}')\n",
    "print (f'o terceiro elevado ao cubo é {calc_3}')"
   ]
  },
  {
   "cell_type": "markdown",
   "metadata": {},
   "source": [
    "Faça um Programa que pergunte quanto você ganha por hora e o número de horas\n",
    "trabalhadas no mês. Calcule e mostre o total do seu salário no referido mês,\n",
    "sabendo-se que são descontados 11% para o Imposto de Renda, 8% para o INSS e 5%\n",
    "para o sindicato, faça um programa que nos dê:\n",
    "- salário bruto.\n",
    "- quanto pagou ao INSS.\n",
    "- quanto pagou ao sindicato.\n",
    "- o salário líquido.\n",
    "- calcule os descontos e o salário líquido, conforme a tabela abaixo:\n",
    " + Salário Bruto : R$\n",
    " - IR (11%) : R$\n",
    " - INSS (8%) : R$\n",
    " - Sindicato ( 5%) : R$\n",
    " = Salário Liquido : R$\n",
    "Obs.: Salário Bruto - Descontos = Salário Líquido."
   ]
  },
  {
   "cell_type": "code",
   "execution_count": 23,
   "metadata": {},
   "outputs": [
    {
     "name": "stdout",
     "output_type": "stream",
     "text": [
      "Digite o valor da hora trabalhada20\n",
      "Digite a quantidade de horas trabalhadas60\n",
      "Salário Bruto : R$ 1200.0\n",
      "IR (11%) : R$ 13.2\n",
      "INSS (8%) : R$ 9.6\n",
      "Sindicato ( 5%) : R$ 6.0\n",
      "Salário Liquido : R$ 1171.2\n"
     ]
    }
   ],
   "source": [
    "import math\n",
    "valor_hora = float(input (\"Digite o valor da hora trabalhada\"))\n",
    "qtd_horas = float(input (\"Digite a quantidade de horas trabalhadas\"))\n",
    "bruto = (valor_hora) * (qtd_horas)\n",
    "ir = bruto * 0.011\n",
    "inss = bruto * 0.008\n",
    "sind = bruto * 0.005\n",
    "desc = (ir)+ (inss) + (sind)\n",
    "lqd = (bruto - desc)\n",
    "print (f'Salário Bruto : R$ {bruto}')\n",
    "print (f'IR (11%) : R$ {ir}')\n",
    "print (f'INSS (8%) : R$ {inss}')\n",
    "print (f'Sindicato ( 5%) : R$ {sind}')\n",
    "print (f'Salário Liquido : R$ {lqd}')    "
   ]
  },
  {
   "cell_type": "code",
   "execution_count": null,
   "metadata": {},
   "outputs": [],
   "source": []
  }
 ],
 "metadata": {
  "kernelspec": {
   "display_name": "Python 3",
   "language": "python",
   "name": "python3"
  },
  "language_info": {
   "codemirror_mode": {
    "name": "ipython",
    "version": 3
   },
   "file_extension": ".py",
   "mimetype": "text/x-python",
   "name": "python",
   "nbconvert_exporter": "python",
   "pygments_lexer": "ipython3",
   "version": "3.7.1"
  }
 },
 "nbformat": 4,
 "nbformat_minor": 2
}
