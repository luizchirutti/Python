{
 "cells": [
  {
   "cell_type": "markdown",
   "metadata": {},
   "source": [
    "Desvio Condicional"
   ]
  },
  {
   "cell_type": "markdown",
   "metadata": {},
   "source": [
    "1: Faça um Programa que peça dois números e imprima o maior deles."
   ]
  },
  {
   "cell_type": "code",
   "execution_count": 2,
   "metadata": {},
   "outputs": [
    {
     "name": "stdout",
     "output_type": "stream",
     "text": [
      "Insira um número: 14\n",
      "Insira outro número: 5\n",
      "O maior número é  14\n"
     ]
    }
   ],
   "source": [
    "a = int(input('Insira um número: '))\n",
    "b = int(input('Insira outro número: '))\n",
    "if a > b:\n",
    "    print('O maior número é ', a)\n",
    "else:\n",
    "    print('O maior número é ', b)"
   ]
  },
  {
   "cell_type": "markdown",
   "metadata": {},
   "source": [
    "2: Faça um Programa que verifique se uma letra digitada é vogal ou consoante."
   ]
  },
  {
   "cell_type": "code",
   "execution_count": 6,
   "metadata": {},
   "outputs": [
    {
     "name": "stdout",
     "output_type": "stream",
     "text": [
      "Digite uma letra: a\n",
      "A letra a é uma vogal.\n"
     ]
    }
   ],
   "source": [
    "letra = input('Digite uma letra: ')\n",
    "if letra in ['a', 'e', 'i', 'o', 'u', 'A', 'E', 'I', 'O', 'U']:\n",
    "    print(f'A letra {letra} é uma vogal.')\n",
    "else:\n",
    "    print(f'A letra {letra} é uma consoante.')"
   ]
  },
  {
   "cell_type": "markdown",
   "metadata": {},
   "source": [
    "3: Faça um programa para a leitura de duas notas parciais de um aluno. O programa\n",
    "deve calcular a média alcançada por aluno e apresentar:\n",
    "    - A mensagem \"Aprovado\", se a média alcançada for maior ou igual a sete;\n",
    "    - A mensagem \"Reprovado\", se a média for menor do que sete;\n",
    "    - A mensagem \"Aprovado com Distinção\", se a média for igual a dez."
   ]
  },
  {
   "cell_type": "code",
   "execution_count": 13,
   "metadata": {
    "scrolled": true
   },
   "outputs": [
    {
     "name": "stdout",
     "output_type": "stream",
     "text": [
      "Insira a primeira nota: 10\n",
      "Insira a segunda nota: 10\n",
      "Aprovado com Distinção\n"
     ]
    }
   ],
   "source": [
    "n1 = float(input('Insira a primeira nota: '))\n",
    "n2 = float(input('Insira a segunda nota: '))\n",
    "media = (n1 + n2) / 2\n",
    "if media == 10:\n",
    "    print('Aprovado com Distinção')\n",
    "elif media >= 7:\n",
    "    print('Aprovado')\n",
    "else:\n",
    "    print('Reprovado')"
   ]
  },
  {
   "cell_type": "markdown",
   "metadata": {},
   "source": [
    "4: Faça um Programa que leia três números e mostre-os em ordem decrescente."
   ]
  },
  {
   "cell_type": "code",
   "execution_count": 17,
   "metadata": {},
   "outputs": [
    {
     "name": "stdout",
     "output_type": "stream",
     "text": [
      "Insira o 1º número: 10\n",
      "Insira o 2º número: 15\n",
      "Insira o 3º número: 5\n",
      "15\n",
      "10\n",
      "5\n"
     ]
    }
   ],
   "source": [
    "vetor = [int(input('Insira o 1º número: ')), int(input('Insira o 2º número: ')), int(input('Insira o 3º número: '))]\n",
    "vetor.sort()\n",
    "for n in reversed(vetor):\n",
    "    print(n)"
   ]
  },
  {
   "cell_type": "markdown",
   "metadata": {},
   "source": [
    "5: As Organizações Tabajara resolveram dar um aumento de salário aos seus\n",
    "colaboradores e lhe contrataram para desenvolver o programa que calculará os\n",
    "reajustes.\n",
    "Faça um programa que recebe o salário de um colaborador e o reajuste segundo o\n",
    "seguinte critério, baseado no salário atual:\n",
    "    - salários até R$ 280,00 (incluindo) : aumento de 20%\n",
    "    - salários entre R$ 280,00 e R$ 700,00 : aumento de 15%\n",
    "    - salários entre R$ 700,00 e R$ 1500,00 : aumento de 10%\n",
    "    - salários de R$ 1500,00 em diante : aumento de 5%\n",
    "Após o aumento ser realizado, informe na tela:\n",
    "    - o salário antes do reajuste;\n",
    "    - o percentual de aumento aplicado;\n",
    "    - o valor do aumento;\n",
    "    - o novo salário, após o aumento."
   ]
  },
  {
   "cell_type": "code",
   "execution_count": 2,
   "metadata": {},
   "outputs": [
    {
     "name": "stdout",
     "output_type": "stream",
     "text": [
      "Insira o salário: 600\n",
      "Salário antes do reajuste: 600.0\n",
      "Percentual de aumento aplicado: 15.0%\n",
      "Valor do aumento: 90.0\n",
      "Novo salário: 690.0\n"
     ]
    }
   ],
   "source": [
    "salario = float(input('Insira o salário: '))\n",
    "if salario <= 280:\n",
    "    percentual = 0.20\n",
    "elif salario > 280 and salario <= 700:\n",
    "    percentual = 0.15\n",
    "elif salario > 700 and salario <= 1500:\n",
    "    percentual = 0.10\n",
    "else:\n",
    "    percentual = 0.05\n",
    "novoSalario = salario + (salario * percentual)\n",
    "\n",
    "print('Salário antes do reajuste:', salario)\n",
    "print(f'Percentual de aumento aplicado: {percentual * 100}%')\n",
    "print('Valor do aumento:', salario * percentual)\n",
    "print('Novo salário:', novoSalario)\n"
   ]
  },
  {
   "cell_type": "markdown",
   "metadata": {},
   "source": [
    "6: Faça um Programa que leia um número e exiba o dia correspondente da semana.\n",
    "(1-Domingo, 2- Segunda, etc.), se digitar outro valor deve aparecer valor inválido."
   ]
  },
  {
   "cell_type": "code",
   "execution_count": 1,
   "metadata": {},
   "outputs": [
    {
     "name": "stdout",
     "output_type": "stream",
     "text": [
      "Insira o número do dia: 3\n",
      "Terca\n"
     ]
    }
   ],
   "source": [
    "numero = int(input(\"Insira o número do dia: \"))\n",
    "if numero == 1:\n",
    "    print('Domingo')\n",
    "elif numero == 2:\n",
    "    print('Segunda')\n",
    "elif numero == 3:\n",
    "    print('Terca')\n",
    "elif numero == 4:\n",
    "    print('Quarta')\n",
    "elif numero == 5:\n",
    "    print('Quinta')\n",
    "elif numero == 6:\n",
    "    print('Sexta')\n",
    "elif numero == 7:\n",
    "    print('Sabado')\n",
    "else:\n",
    "    print('Valor inválido.')"
   ]
  },
  {
   "cell_type": "markdown",
   "metadata": {},
   "source": [
    "7: Faça um programa que lê as duas notas parciais obtidas por um aluno numa\n",
    "disciplina ao longo de um semestre, e calcule a sua média. A atribuição de conceitos\n",
    "obedece à tabela abaixo:\n",
    "    Média de Aproveitamento Conceito\n",
    "    Entre 9.0 e 10.0 A\n",
    "    Entre 7.5 e 9.0 B\n",
    "    Entre 6.0 e 7.5 C\n",
    "    Entre 4.0 e 6.0 D\n",
    "    Entre 4.0 e zero E\n",
    "O algoritmo deve mostrar na tela as notas, a média, o conceito correspondente e a\n",
    "mensagem “APROVADO” se o conceito for A, B ou C ou “REPROVADO” se o conceito\n",
    "for D ou E."
   ]
  },
  {
   "cell_type": "code",
   "execution_count": 6,
   "metadata": {},
   "outputs": [
    {
     "name": "stdout",
     "output_type": "stream",
     "text": [
      "Insira a primeira nota: 1\n",
      "Insira a segunda nota: 3\n",
      "Nota 1:  1.0\n",
      "Nota 2:  3.0\n",
      "Média:  2.0\n",
      "Conceito:  E\n",
      "REPROVADO\n"
     ]
    }
   ],
   "source": [
    "n1 = float(input('Insira a primeira nota: '))\n",
    "n2 = float(input('Insira a segunda nota: '))\n",
    "media = (n1 + n2) / 2\n",
    "if media >= 9 and media <= 10:\n",
    "    conceito = 'A'\n",
    "elif media >= 7.5 and media < 9:\n",
    "    conceito = 'B'\n",
    "elif media >= 6 and media < 7.5:\n",
    "    conceito = 'C'\n",
    "elif media >= 4 and media < 6:\n",
    "    conceito = 'D'\n",
    "elif media < 4:\n",
    "    conceito = 'E'\n",
    "print('Nota 1: ', n1)\n",
    "print('Nota 2: ', n2)\n",
    "print('Média: ', media)\n",
    "print('Conceito: ', conceito)\n",
    "if conceito == \"A\" or conceito == \"B\" or conceito == \"C\":\n",
    "    print(\"APROVADO\")\n",
    "else:\n",
    "    print(\"REPROVADO\")"
   ]
  },
  {
   "cell_type": "markdown",
   "metadata": {},
   "source": [
    "8: Faça um Programa que peça os 3 lados de um triângulo. O programa deverá\n",
    "informar se os valores podem ser um triângulo. Indique, caso os lados formem um\n",
    "triângulo, se o mesmo é: equilátero, isósceles ou escaleno.\n",
    "Dicas:\n",
    "    - Três lados formam um triângulo quando a soma de quaisquer dois lados for maior\n",
    "    que o terceiro;\n",
    "    - Triângulo Equilátero: três lados iguais;\n",
    "    - Triângulo Isósceles: quaisquer dois lados iguais;\n",
    "    - Triângulo Escaleno: três lados diferentes;"
   ]
  },
  {
   "cell_type": "code",
   "execution_count": 8,
   "metadata": {},
   "outputs": [
    {
     "name": "stdout",
     "output_type": "stream",
     "text": [
      "Insira o primeiro lado: 7\n",
      "Insira o segundo lado: 8\n",
      "Insira o terceiro lado: 9\n",
      "Os valores podem ser um triângulo.\n",
      "Os valores formam um triângulo escaleno.\n"
     ]
    }
   ],
   "source": [
    "l1 = float(input('Insira o primeiro lado: '))\n",
    "l2 = float(input('Insira o segundo lado: '))\n",
    "l3 = float(input('Insira o terceiro lado: '))\n",
    "\n",
    "if l1 < l2 + l3 and l2 < l1 + l3 and l3 < l1 + l2:\n",
    "    print('Os valores podem ser um triângulo.')\n",
    "    if l1 == l2 == l3:\n",
    "        print('Os valoresa formam um triângulo equilátero.')\n",
    "    elif l1 == l2 or l1 == l3 or l2 == l3:\n",
    "        print('Os valores formam um triângulo isósceles.')\n",
    "    else:\n",
    "        print('Os valores formam um triângulo escaleno.')\n",
    "else:\n",
    "    print('Os valores não podem ser um triângulo.')"
   ]
  },
  {
   "cell_type": "markdown",
   "metadata": {},
   "source": [
    "9: Faça um programa que calcule as raízes de uma equação do segundo grau, na\n",
    "forma ax2 + bx + c. O programa deverá pedir os valores de a, b e c e fazer as\n",
    "consistências, informando ao usuário nas seguintes situações:\n",
    "    - Se o usuário informar o valor de A igual a zero, a equação não é do segundo grau e\n",
    "    o programa não deve fazer pedir os demais valores, sendo encerrado;\n",
    "    - Se o delta calculado for negativo, a equação não possui raizes reais. Informe ao\n",
    "    usuário e encerre o programa;\n",
    "    - Se o delta calculado for igual a zero a equação possui apenas uma raiz real;\n",
    "    informe-a ao usuário;\n",
    "    - Se o delta for positivo, a equação possui duas raiz reais; informe-as ao usuário;"
   ]
  },
  {
   "cell_type": "code",
   "execution_count": 20,
   "metadata": {},
   "outputs": [
    {
     "name": "stdout",
     "output_type": "stream",
     "text": [
      "Insira o A: 1\n",
      "Insira o B: 12\n",
      "Insira o C: -13\n",
      "A equação possui duas raiz reais: 1.0 e -13.0\n"
     ]
    }
   ],
   "source": [
    "a = float(input('Insira o A: '))\n",
    "if a == 0:\n",
    "    print(\"Não é uma equação de segundo grau, programa encerrado.\")\n",
    "else:\n",
    "    b = float(input('Insira o B: '))\n",
    "    c = float(input('Insira o C: '))\n",
    "    delta = b**2 - 4*a*c\n",
    "    if delta < 0:\n",
    "        print(\"A equação não possui raizes reais, programa encerrado\")\n",
    "    elif delta == 0:\n",
    "        x = -b / (2*a)\n",
    "        print(\"A equação possui apenas uma raiz real:\", x)\n",
    "    else:\n",
    "        x1 = (-b + math.sqrt(delta)) / (2*a)\n",
    "        x2 = (-b - math.sqrt(delta)) / (2*a)\n",
    "        print(f\"A equação possui duas raiz reais: {x1} e {x2}\")\n",
    "    "
   ]
  },
  {
   "cell_type": "markdown",
   "metadata": {},
   "source": [
    "10: Faça um Programa para um caixa eletrônico. O programa deverá perguntar ao\n",
    "usuário a valor do saque e depois informar quantas notas de cada valor serão\n",
    "fornecidas. As notas disponíveis serão as de 1, 5, 10, 50 e 100 reais. O valor mínimo é\n",
    "de 10 reais e o máximo de 600 reais. O programa não deve se preocupar com a\n",
    "quantidade de notas existentes na máquina.\n",
    "\n",
    "    - Exemplo 1: Para sacar a quantia de 256 reais, o programa fornece duas notas de\n",
    "100, uma nota de 50, uma nota de 5 e uma nota de 1;\n",
    "    - Exemplo 2: Para sacar a quantia de 399 reais, o programa fornece três notas de\n",
    "100, uma nota de 50, quatro notas de 10, uma nota de 5 e quatro notas de 1."
   ]
  },
  {
   "cell_type": "code",
   "execution_count": 9,
   "metadata": {},
   "outputs": [
    {
     "name": "stdout",
     "output_type": "stream",
     "text": [
      "Informe o valor a ser sacado: 256\n",
      "2 notas de 100 reais;\n",
      "1 notas de 50 reais;\n",
      "0 notas de 10 reais;\n",
      "1 notas de 5 reais;\n",
      "1 notas de 1 real.\n"
     ]
    }
   ],
   "source": [
    "saque = int(input(\"Informe o valor a ser sacado: \"))\n",
    "if saque >= 10 and saque <= 600:\n",
    "    n100 = saque // 100\n",
    "    resto = saque % 100\n",
    "    print(f'{n100} notas de 100 reais;')\n",
    "    n50 = resto // 50\n",
    "    resto = resto % 50\n",
    "    print(f'{n50} notas de 50 reais;')\n",
    "    n10 = resto // 10\n",
    "    resto = resto % 10\n",
    "    print(f'{n10} notas de 10 reais;')\n",
    "    n5 = resto // 5\n",
    "    resto = resto % 5\n",
    "    print(f'{n5} notas de 5 reais;')\n",
    "    print(f'{resto} notas de 1 real.')\n",
    "else:\n",
    "    print(\"Valor não permitido.\")"
   ]
  },
  {
   "cell_type": "markdown",
   "metadata": {},
   "source": [
    "11: Faça um programa que faça 5 perguntas para uma pessoa sobre um crime. As\n",
    "perguntas são:\n",
    "    \"Telefonou para a vítima?\"\n",
    "    \"Esteve no local do crime?\"\n",
    "    \"Mora perto da vítima?\"\n",
    "    \"Devia para a vítima?\"\n",
    "    \"Já trabalhou com a vítima?\"\n",
    "O programa deve no final emitir uma classificação sobre a participação da pessoa no\n",
    "crime. Se a pessoa responder positivamente a 2 questões ela deve ser classificada\n",
    "como \"Suspeita\", entre 3 e 4 como \"Cúmplice\" e 5 como \"Assassino\". Caso contrário,\n",
    "ele será classificado como \"Inocente\"."
   ]
  },
  {
   "cell_type": "code",
   "execution_count": 4,
   "metadata": {},
   "outputs": [
    {
     "name": "stdout",
     "output_type": "stream",
     "text": [
      "Telefonou para a vítima? (s/n): n\n",
      "Esteve no local do crime? (s/n): n\n",
      "Mora perto da vítima? (s/n): n\n",
      "Devia para a vítima? (s/n): s\n",
      "Já trabalhou com a vítima? (s/n): n\n",
      "Inocente\n"
     ]
    }
   ],
   "source": [
    "score = 0\n",
    "respostas = [\n",
    "    input(\"Telefonou para a vítima? (s/n): \"),\n",
    "    input(\"Esteve no local do crime? (s/n): \"),\n",
    "    input(\"Mora perto da vítima? (s/n): \"),\n",
    "    input(\"Devia para a vítima? (s/n): \"),\n",
    "    input(\"Já trabalhou com a vítima? (s/n): \")\n",
    "]\n",
    "\n",
    "for resposta in respostas:\n",
    "    if resposta == \"s\":\n",
    "        score += 1\n",
    "        \n",
    "if score == 2:\n",
    "    print(\"Suspeita\")\n",
    "elif score >= 3 and score <= 4:\n",
    "    print(\"Cúmplice\")\n",
    "elif score == 5:\n",
    "    print(\"Assassino\")\n",
    "else:\n",
    "    print(\"Inocente\")"
   ]
  },
  {
   "cell_type": "markdown",
   "metadata": {},
   "source": [
    "12: Uma fruteira está vendendo frutas com a seguinte tabela de preços:\n",
    "Até 5 Kg Acima de 5 Kg\n",
    "Morango R$ 2,50 por Kg R$ 2,20 por Kg\n",
    "Maçã R$ 1,80 por Kg R$ 1,50 por Kg\n",
    "Se o cliente comprar mais de 8 Kg em frutas ou o valor total da compra ultrapassar\n",
    "R$ 25,00, receberá ainda um desconto de 10% sobre este total. Escreva um\n",
    "algoritmo para ler a quantidade (em Kg) de morangos e a quantidade (em Kg) de\n",
    "maças adquiridas e escreva o valor a ser pago pelo cliente."
   ]
  },
  {
   "cell_type": "code",
   "execution_count": 4,
   "metadata": {},
   "outputs": [
    {
     "name": "stdout",
     "output_type": "stream",
     "text": [
      "Insira a quantidade em kg de morangos: 10\n",
      "Insira a quantidade em kg de maçãs: 10\n",
      "Valor a ser pago:  33.300000000000004\n"
     ]
    }
   ],
   "source": [
    "preco = 0\n",
    "kgMorg = float(input(\"Insira a quantidade em kg de morangos: \"))\n",
    "kgMaca = float(input(\"Insira a quantidade em kg de maçãs: \"))\n",
    "\n",
    "if kgMorg < 5:\n",
    "    preco += kgMorg * 2.50\n",
    "else:\n",
    "    preco += kgMorg * 2.20\n",
    "    \n",
    "if kgMaca < 5:\n",
    "    preco += kgMaca * 1.80\n",
    "else:\n",
    "    preco += kgMaca * 1.50\n",
    "    \n",
    "if preco > 25.00:\n",
    "    preco *= 0.90\n",
    "\n",
    "print('Valor a ser pago: ', preco)"
   ]
  },
  {
   "cell_type": "markdown",
   "metadata": {},
   "source": [
    "13: Faça um programa que peça uma nota, entre zero e dez. Mostre uma mensagem\n",
    "caso o valor seja inválido e continue pedindo até que o usuário informe um valor\n",
    "válido."
   ]
  },
  {
   "cell_type": "code",
   "execution_count": 19,
   "metadata": {},
   "outputs": [
    {
     "name": "stdout",
     "output_type": "stream",
     "text": [
      "Insira uma nora entre zero e dez: 15\n",
      "Valor inválido.\n",
      "Insira uma nora entre zero e dez: -1\n",
      "Valor inválido.\n",
      "Insira uma nora entre zero e dez: 3\n",
      "Valor válido.\n"
     ]
    }
   ],
   "source": [
    "num = int(input(\"Insira uma nora entre zero e dez: \"))\n",
    "while num < 0 or num > 10:\n",
    "    print(\"Valor inválido.\")\n",
    "    num = int(input(\"Insira uma nora entre zero e dez: \"))\n",
    "else:\n",
    "    print(\"Valor válido.\")"
   ]
  },
  {
   "cell_type": "markdown",
   "metadata": {},
   "source": [
    "14: Faça um programa que leia e valide as seguintes informações:\n",
    "\n",
    "    Nome: maior que 3 caracteres;    \n",
    "    Idade: entre 0 e 150;    \n",
    "    Salário: maior que zero;    \n",
    "    Sexo: 'f' ou 'm';    \n",
    "    Estado Civil: 's', 'c', 'v', 'd';"
   ]
  },
  {
   "cell_type": "code",
   "execution_count": 1,
   "metadata": {},
   "outputs": [
    {
     "name": "stdout",
     "output_type": "stream",
     "text": [
      "Insira o nome (maior que três caracteres): Nom\n",
      "Insira o nome (maior que três caracteres): Nome Teste\n",
      "Insira a idade (0 - 150): -15\n",
      "Insira a idade (0 - 150): 231\n",
      "Insira a idade (0 - 150): 60\n",
      "Insira o salário (maior que zero): -5\n",
      "Insira o salário (maior que zero): 15\n",
      "Insira o sexo (f/m): a\n",
      "Insira o sexo (f/m): m\n",
      "Insira o estado civil (s/c/v/d): z\n",
      "Insira o estado civil (s/c/v/d): s\n"
     ]
    }
   ],
   "source": [
    "nome = input(\"Insira o nome (maior que três caracteres): \")\n",
    "while len(nome) <= 3:\n",
    "    nome = input(\"Insira o nome (maior que três caracteres): \")\n",
    "    \n",
    "idade = int(input(\"Insira a idade (0 - 150): \"))\n",
    "while idade < 0 or idade > 150:\n",
    "    idade = int(input(\"Insira a idade (0 - 150): \"))\n",
    "    \n",
    "salario = int(input(\"Insira o salário (maior que zero): \"))\n",
    "while salario <= 0:\n",
    "    salario = int(input(\"Insira o salário (maior que zero): \"))\n",
    "    \n",
    "sexo = input(\"Insira o sexo (f/m): \")\n",
    "while not (sexo in ['f', 'm']):\n",
    "    sexo = input(\"Insira o sexo (f/m): \")\n",
    "    \n",
    "estadocivil = input(\"Insira o estado civil (s/c/v/d): \")\n",
    "while not (estadocivil in ['s', 'c', 'v', 'd']):\n",
    "    estadocivil = input(\"Insira o estado civil (s/c/v/d): \")"
   ]
  },
  {
   "cell_type": "markdown",
   "metadata": {},
   "source": [
    "15: Faça um programa que leia 5 números e informe o maior número."
   ]
  },
  {
   "cell_type": "code",
   "execution_count": 9,
   "metadata": {},
   "outputs": [
    {
     "name": "stdout",
     "output_type": "stream",
     "text": [
      "Digite o 1º número: 2\n",
      "Digite o 2º número: 7\n",
      "Digite o 3º número: 61\n",
      "Digite o 4º número: 3\n",
      "Digite o 5º número: 15\n",
      "Maior: 61\n"
     ]
    }
   ],
   "source": [
    "maior = int(input(\"Digite o 1º número: \"))\n",
    "for num in range(2,6):\n",
    "    x = int(input(f\"Digite o {num}º número: \"))\n",
    "    if x > maior:\n",
    "        maior = x\n",
    "print(\"Maior:\", maior)    "
   ]
  },
  {
   "cell_type": "markdown",
   "metadata": {},
   "source": [
    "16: Faça um programa que leia 5 números e informe a soma e a média dos números."
   ]
  },
  {
   "cell_type": "code",
   "execution_count": 13,
   "metadata": {},
   "outputs": [
    {
     "name": "stdout",
     "output_type": "stream",
     "text": [
      "Digite o 1º número: 1\n",
      "Digite o 2º número: 2\n",
      "Digite o 3º número: 3\n",
      "Digite o 4º número: 4\n",
      "Digite o 5º número: 5\n",
      "Soma: 15\n",
      "Media: 3.0\n"
     ]
    }
   ],
   "source": [
    "soma = 0\n",
    "for num in range(1,6):\n",
    "    soma += int(input(f\"Digite o {num}º número: \"))\n",
    "print(\"Soma:\", soma)\n",
    "print(\"Media:\", soma / 5)"
   ]
  },
  {
   "cell_type": "markdown",
   "metadata": {},
   "source": [
    "17: Faça um programa que imprima na tela apenas os números ímpares entre 1 e 50."
   ]
  },
  {
   "cell_type": "code",
   "execution_count": 14,
   "metadata": {},
   "outputs": [
    {
     "name": "stdout",
     "output_type": "stream",
     "text": [
      "1\n",
      "3\n",
      "5\n",
      "7\n",
      "9\n",
      "11\n",
      "13\n",
      "15\n",
      "17\n",
      "19\n",
      "21\n",
      "23\n",
      "25\n",
      "27\n",
      "29\n",
      "31\n",
      "33\n",
      "35\n",
      "37\n",
      "39\n",
      "41\n",
      "43\n",
      "45\n",
      "47\n",
      "49\n"
     ]
    }
   ],
   "source": [
    "for num in range(1, 51):\n",
    "    if num % 2 != 0:\n",
    "        print(num)"
   ]
  },
  {
   "cell_type": "markdown",
   "metadata": {},
   "source": [
    "18: Desenvolva um gerador de tabuada, capaz de gerar a tabuada de qualquer\n",
    "número inteiro entre 1 a 10. O usuário deve informar de qual numero ele deseja ver\n",
    "a tabuada. A saída deve ser conforme o exemplo abaixo:\n",
    "Tabuada de 5:\n",
    "    \n",
    "    5 X 1 = 5    \n",
    "    5 X 2 = 10    \n",
    "    ...     \n",
    "    5 X 10 = 50 "
   ]
  },
  {
   "cell_type": "code",
   "execution_count": 15,
   "metadata": {},
   "outputs": [
    {
     "name": "stdout",
     "output_type": "stream",
     "text": [
      "Insira o número da tabuada: 5\n",
      "5 X 1 = 5\n",
      "5 X 2 = 10\n",
      "5 X 3 = 15\n",
      "5 X 4 = 20\n",
      "5 X 5 = 25\n",
      "5 X 6 = 30\n",
      "5 X 7 = 35\n",
      "5 X 8 = 40\n",
      "5 X 9 = 45\n",
      "5 X 10 = 50\n"
     ]
    }
   ],
   "source": [
    "tabuada = int(input(\"Insira o número da tabuada: \"))\n",
    "for mt in range(1, 11):\n",
    "    res = mt*tabuada\n",
    "    print(f\"{tabuada} X {mt} = {res}\")"
   ]
  },
  {
   "cell_type": "markdown",
   "metadata": {},
   "source": [
    "19: A série de Fibonacci é formada pela seqüência 1,1,2,3,5,8,13,21,34,55,... Faça um\n",
    "programa capaz de gerar a série até o n−ésimo termo."
   ]
  },
  {
   "cell_type": "code",
   "execution_count": 37,
   "metadata": {},
   "outputs": [
    {
     "name": "stdout",
     "output_type": "stream",
     "text": [
      "Até qual termo? 8\n",
      "0\n",
      "1\n",
      "1\n",
      "2\n",
      "3\n",
      "5\n",
      "8\n",
      "13\n"
     ]
    }
   ],
   "source": [
    "a = 0\n",
    "b = 1\n",
    "nesimo = int(input(\"Até qual termo? \"))\n",
    "for i in range(nesimo):\n",
    "    print(a)\n",
    "    aux = b\n",
    "    b = a + b\n",
    "    a = aux"
   ]
  },
  {
   "cell_type": "markdown",
   "metadata": {},
   "source": [
    "20: Faça um programa que calcule o fatorial de um número inteiro fornecido pelo\n",
    "usuário. Ex.: 5!=5.4.3.2.1=120"
   ]
  },
  {
   "cell_type": "code",
   "execution_count": 56,
   "metadata": {},
   "outputs": [
    {
     "name": "stdout",
     "output_type": "stream",
     "text": [
      "Fatorial de: 5\n",
      "120\n"
     ]
    }
   ],
   "source": [
    "fatorial = int(input(\"Fatorial de: \"))\n",
    "for i in range(1, fatorial):\n",
    "    fatorial = fatorial * i\n",
    "print(fatorial)"
   ]
  },
  {
   "cell_type": "markdown",
   "metadata": {},
   "source": [
    "21: O Sr. Manoel Joaquim possui uma grande loja de artigos de RS 1,99, com cerca\n",
    "de 10 caixas. Para agilizar o cálculo de quanto cada cliente deve pagar ele\n",
    "desenvolveu um tabela que contém o número de itens que o cliente comprou e ao\n",
    "lado o valor da conta. Desta forma a atendente do caixa precisa apenas contar\n",
    "quantos itens o cliente está levando e olhar na tabela de preços. Você foi contratado\n",
    "para desenvolver o programa que monta esta tabela de preços, que conterá os\n",
    "preços de 1 até 50 produtos, conforme o exemplo abaixo:\n",
    "\n",
    "Lojas Quase Dois - Tabela de preços\n",
    "\n",
    "    1 - RS 1.99    \n",
    "    2 - RS 3.98    \n",
    "    ...\n",
    "    50 - RS 99.50\n",
    "    "
   ]
  },
  {
   "cell_type": "code",
   "execution_count": 57,
   "metadata": {},
   "outputs": [
    {
     "name": "stdout",
     "output_type": "stream",
     "text": [
      "1 - R$ 1.99\n",
      "2 - R$ 3.98\n",
      "3 - R$ 5.97\n",
      "4 - R$ 7.96\n",
      "5 - R$ 9.95\n",
      "6 - R$ 11.94\n",
      "7 - R$ 13.93\n",
      "8 - R$ 15.92\n",
      "9 - R$ 17.91\n",
      "10 - R$ 19.9\n",
      "11 - R$ 21.89\n",
      "12 - R$ 23.88\n",
      "13 - R$ 25.87\n",
      "14 - R$ 27.86\n",
      "15 - R$ 29.85\n",
      "16 - R$ 31.84\n",
      "17 - R$ 33.83\n",
      "18 - R$ 35.82\n",
      "19 - R$ 37.81\n",
      "20 - R$ 39.8\n",
      "21 - R$ 41.79\n",
      "22 - R$ 43.78\n",
      "23 - R$ 45.77\n",
      "24 - R$ 47.76\n",
      "25 - R$ 49.75\n",
      "26 - R$ 51.74\n",
      "27 - R$ 53.73\n",
      "28 - R$ 55.72\n",
      "29 - R$ 57.71\n",
      "30 - R$ 59.7\n",
      "31 - R$ 61.69\n",
      "32 - R$ 63.68\n",
      "33 - R$ 65.67\n",
      "34 - R$ 67.66\n",
      "35 - R$ 69.65\n",
      "36 - R$ 71.64\n",
      "37 - R$ 73.63\n",
      "38 - R$ 75.62\n",
      "39 - R$ 77.61\n",
      "40 - R$ 79.6\n",
      "41 - R$ 81.59\n",
      "42 - R$ 83.58\n",
      "43 - R$ 85.57\n",
      "44 - R$ 87.56\n",
      "45 - R$ 89.55\n",
      "46 - R$ 91.54\n",
      "47 - R$ 93.53\n",
      "48 - R$ 95.52\n",
      "49 - R$ 97.51\n",
      "50 - R$ 99.5\n"
     ]
    }
   ],
   "source": [
    "for num in range(1, 51):\n",
    "    preco = num * 1.99\n",
    "    print(f\"{num} - R$ {preco}\")"
   ]
  },
  {
   "cell_type": "markdown",
   "metadata": {},
   "source": [
    "22: O Sr. Manoel Joaquim acaba de adquirir uma panificadora e pretende implantar\n",
    "a metodologia da tabelinha, que já é um sucesso na sua loja de 1,99. Você foi\n",
    "contratado para desenvolver o programa que monta a tabela de preços de pães, de\n",
    "1 até 50 pães, a partir do preço do pão informado pelo usuário, conforme o exemplo\n",
    "abaixo:\n",
    "\n",
    "    Preço do pão: RS 0.18    \n",
    "    Panificadora Pão de Ontem - Tabela de preços    \n",
    "    1 - RS 0.18    \n",
    "    2 - RS 0.36    \n",
    "    ...    \n",
    "    50 - RS 9.00    "
   ]
  },
  {
   "cell_type": "code",
   "execution_count": 25,
   "metadata": {},
   "outputs": [
    {
     "name": "stdout",
     "output_type": "stream",
     "text": [
      "Insira o preço do pão: 0.18\n",
      "1 - R$ 0.18\n",
      "2 - R$ 0.36\n",
      "3 - R$ 0.54\n",
      "4 - R$ 0.72\n",
      "5 - R$ 0.90\n",
      "6 - R$ 1.08\n",
      "7 - R$ 1.26\n",
      "8 - R$ 1.44\n",
      "9 - R$ 1.62\n",
      "10 - R$ 1.80\n",
      "11 - R$ 1.98\n",
      "12 - R$ 2.16\n",
      "13 - R$ 2.34\n",
      "14 - R$ 2.52\n",
      "15 - R$ 2.70\n",
      "16 - R$ 2.88\n",
      "17 - R$ 3.06\n",
      "18 - R$ 3.24\n",
      "19 - R$ 3.42\n",
      "20 - R$ 3.60\n",
      "21 - R$ 3.78\n",
      "22 - R$ 3.96\n",
      "23 - R$ 4.14\n",
      "24 - R$ 4.32\n",
      "25 - R$ 4.50\n",
      "26 - R$ 4.68\n",
      "27 - R$ 4.86\n",
      "28 - R$ 5.04\n",
      "29 - R$ 5.22\n",
      "30 - R$ 5.40\n",
      "31 - R$ 5.58\n",
      "32 - R$ 5.76\n",
      "33 - R$ 5.94\n",
      "34 - R$ 6.12\n",
      "35 - R$ 6.30\n",
      "36 - R$ 6.48\n",
      "37 - R$ 6.66\n",
      "38 - R$ 6.84\n",
      "39 - R$ 7.02\n",
      "40 - R$ 7.20\n",
      "41 - R$ 7.38\n",
      "42 - R$ 7.56\n",
      "43 - R$ 7.74\n",
      "44 - R$ 7.92\n",
      "45 - R$ 8.10\n",
      "46 - R$ 8.28\n",
      "47 - R$ 8.46\n",
      "48 - R$ 8.64\n",
      "49 - R$ 8.82\n",
      "50 - R$ 9.00\n"
     ]
    }
   ],
   "source": [
    "preco = float(input(\"Insira o preço do pão: \"))\n",
    "for num in range(1, 51):\n",
    "    total = num * preco\n",
    "    print(\"%s - R$ %.2f\" % (num, total))"
   ]
  },
  {
   "cell_type": "markdown",
   "metadata": {},
   "source": [
    "23: O Sr. Manoel Joaquim expandiu seus negócios para além dos negócios de 1,99 e agora possui uma loja de conveniências. Faça um programa que implemente uma caixa registradora rudimentar. O programa deverá receber um número desconhecido de valores referentes aos preços das mercadorias. Um valor zero deve ser informado pelo operador para indicar o final da compra. O programa deve então mostrar o total da compra e perguntar o valor em dinheiro que o cliente forneceu, para então calcular e mostrar o valor do troco. Após esta operação, o programa deverá voltar ao ponto inicial, para registrar a próxima compra. A saída deve ser conforme o exemplo abaixo:\n",
    "\n",
    "       Lojas Tabajara\n",
    "        Produto 1: RS 2.20\n",
    "        Produto 2: RS 5.80\n",
    "        Produto 3: RS 0\n",
    "        Total: RS 9.00\n",
    "        Dinheiro: RS 20.00\n",
    "        Troco: RS 11.00\n",
    "        ..."
   ]
  },
  {
   "cell_type": "code",
   "execution_count": 2,
   "metadata": {
    "scrolled": false
   },
   "outputs": [
    {
     "name": "stdout",
     "output_type": "stream",
     "text": [
      "Insira o preço do item (Digite '0' para finalizar a compra): 15\n",
      "Produto 1: R$ 15.0\n",
      "Insira o preço do item (Digite '0' para finalizar a compra): 10\n",
      "Produto 2: R$ 10.0\n",
      "Insira o preço do item (Digite '0' para finalizar a compra): 0\n",
      "Total: R$ 25.0\n",
      "Insira o valor a ser pago: 30\n",
      "Troco: R$  5.0\n"
     ]
    }
   ],
   "source": [
    "total = 0\n",
    "preco = -1\n",
    "i = 0\n",
    "while preco != 0:\n",
    "    preco = float(input(\"Insira o preço do item (Digite '0' para finalizar a compra): \"))\n",
    "    total += preco\n",
    "    i += 1\n",
    "    if preco == 0:\n",
    "        print(f\"Total: R$ {total}\")\n",
    "        pago = float(input(\"Insira o valor a ser pago: \"))\n",
    "        print(\"Troco: R$ \", pago - total)\n",
    "    else:\n",
    "        print(f\"Produto {i}: R$ {preco}\")"
   ]
  },
  {
   "cell_type": "markdown",
   "metadata": {},
   "source": [
    "24 Foi feita uma estatística em cinco cidades brasileiras para coletar dados sobre\n",
    "acidentes de trânsito. Foram obtidos os seguintes dados:\n",
    "    \n",
    "    - Código da cidade;\n",
    "    - Número de veículos de passeio (em 1999);\n",
    "    - Número de acidentes de trânsito com vítimas (em 1999). Deseja-se saber:\n",
    "    - Qual o maior e menor índice de acidentes de transito e a que cidade pertence;\n",
    "    - Qual a média de veículos nas cinco cidades juntas;\n",
    "    - Qual a média de acidentes de trânsito nas cidades com menos de 2.000 veículos de\n",
    "    passeio."
   ]
  },
  {
   "cell_type": "code",
   "execution_count": 12,
   "metadata": {},
   "outputs": [
    {
     "name": "stdout",
     "output_type": "stream",
     "text": [
      "Maior índice e a cidade:  [6753, 12]\n",
      "Menor índice e a cidade:  [2, 'cidade3']\n",
      "Média de veículos nas cinco cidades juntas:  5471.6\n",
      "Média de acidentes de trânsito nas cidades com menos de 2.000 veículos de passeio:  2.5\n"
     ]
    }
   ],
   "source": [
    "cidades = {\n",
    "    #cod #veiculos #acidentes\n",
    "    \"cidade0\": [6753, 12],\n",
    "    \"cidade1\": [7503, 23],\n",
    "    \"cidade2\": [607, 3],\n",
    "    \"cidade3\": [450, 2],\n",
    "    \"cidade4\": [12045, 47]\n",
    "}\n",
    "\n",
    "menorIndice = [cidades[\"cidade0\"][0], cidades[\"cidade0\"][1]]\n",
    "maiorIndice = [cidades[\"cidade0\"][0], cidades[\"cidade0\"][1]]\n",
    "somaVeiculos = 0\n",
    "somaAcidentes = 0\n",
    "contCidades = 0\n",
    "for cod in cidades:\n",
    "    somaVeiculos += cidades[cod][0]\n",
    "    if cidades[cod][0] < 2000:\n",
    "        somaAcidentes += cidades[cod][1]\n",
    "        contCidades += 1\n",
    "    if cidades[cod][1] > maiorIndice[0]:\n",
    "        maiorIndice[0] = cidades[cod][1]\n",
    "        maiorIndice[1] = cod\n",
    "    if cidades[cod][1] < menorIndice[0]:\n",
    "        menorIndice[0] = cidades[cod][1]\n",
    "        menorIndice[1] = cod\n",
    "        \n",
    "    \n",
    "mediaVeiculos = somaVeiculos / len(cidades.keys())\n",
    "mediaAcidentes = somaAcidentes / contCidades\n",
    "\n",
    "print(\"Maior índice e a cidade: \", maiorIndice)\n",
    "print(\"Menor índice e a cidade: \", menorIndice)\n",
    "print(\"Média de veículos nas cinco cidades juntas: \", mediaVeiculos)\n",
    "print(\"Média de acidentes de trânsito nas cidades com menos de 2.000 veículos de passeio: \", mediaAcidentes)"
   ]
  },
  {
   "cell_type": "markdown",
   "metadata": {},
   "source": [
    "25 Faça um programa que receba o valor de uma dívida e mostre uma tabela com\n",
    "os seguintes dados: valor da dívida, valor dos juros, quantidade de parcelas e valor\n",
    "da parcela.\n",
    "Os juros e a quantidade de parcelas seguem a tabela abaixo:\n",
    "Quantidade de Parcelas % de Juros sobre o valor inicial da dívida\n",
    "\n",
    "    1 0\n",
    "    3 10\n",
    "    6 15\n",
    "    9 20\n",
    "    12 25\n",
    "    \n",
    "Exemplo de saída do programa:\n",
    "\n",
    "    Valor da Dívida Valor dos Juros Quantidade de Parcelas Valor da Parcela\n",
    "    RS 1.000,00 0 1 RS 1.000,00\n",
    "    RS 1.100,00 100 3 RS 366,00\n",
    "    RS 1.150,00 150 6 RS 191,67"
   ]
  },
  {
   "cell_type": "code",
   "execution_count": 39,
   "metadata": {},
   "outputs": [
    {
     "name": "stdout",
     "output_type": "stream",
     "text": [
      "Insira o valor da dívida: 1000\n",
      "Dívida \t Valor Juros \t Qtde Parcelas \t Valor da Parcela\n",
      "R$ 1000.0 \t 0.0 \t 1 \t R$ 1000.00\n",
      "R$ 1100.0 \t 100.0 \t 3 \t R$ 366.67\n",
      "R$ 1150.0 \t 150.0 \t 6 \t R$ 191.67\n",
      "R$ 1200.0 \t 200.0 \t 9 \t R$ 133.33\n",
      "R$ 1250.0 \t 250.0 \t 12 \t R$ 104.17\n"
     ]
    }
   ],
   "source": [
    "dividaInicial = float(input(\"Insira o valor da dívida: \"))\n",
    "print(\"Dívida \\t Valor Juros \\t Qtde Parcelas \\t Valor da Parcela\")\n",
    "for i in range(0, 5):\n",
    "    if i == 0:\n",
    "        juros = 0\n",
    "    elif i == 1:\n",
    "        juros = 10\n",
    "    else:\n",
    "        juros += 5\n",
    "    valorJuros = dividaInicial * (juros / 100)\n",
    "    divida = dividaInicial + valorJuros\n",
    "    if i == 0:\n",
    "        qtdeParc = 1\n",
    "    else:\n",
    "        qtdeParc = i * 3\n",
    "    if qtdeParc != 0:\n",
    "        valorParcela = divida / qtdeParc\n",
    "    else:\n",
    "        valorParcela = divida\n",
    "    print(f\"R$ {divida} \\t {valorJuros} \\t {qtdeParc} \\t R$ %.2f\"%(valorParcela))"
   ]
  },
  {
   "cell_type": "markdown",
   "metadata": {},
   "source": [
    "26 Faça um programa que mostre os n termos da Série a seguir:\n",
    "\n",
    "    S = 1/1 + 2/3 + 3/5 + 4/7 + 5/9 + ... + n/m.\n",
    "    \n",
    "Imprima no final a soma da série."
   ]
  },
  {
   "cell_type": "code",
   "execution_count": 45,
   "metadata": {},
   "outputs": [
    {
     "name": "stdout",
     "output_type": "stream",
     "text": [
      "Insira a quantidade de termos desejada: 5\n",
      "S = 1/1 + 2/3 + 3/5 + 4/7 + 5/9\n",
      "Soma da série: 3.393650793650793\n"
     ]
    }
   ],
   "source": [
    "termo = int(input('Insira a quantidade de termos desejada: '))\n",
    "\n",
    "somaStr = \"S = \"\n",
    "s = 0\n",
    "m = 1\n",
    "for n in range(1, termo + 1):\n",
    "    s += n / m\n",
    "    somaStr += str(n) + \"/\" + str(m)\n",
    "    if n != termo:\n",
    "        somaStr += \" + \"\n",
    "    m += 2\n",
    "\n",
    "print(somaStr)\n",
    "print('Soma da série: %s' % s)"
   ]
  },
  {
   "cell_type": "code",
   "execution_count": null,
   "metadata": {},
   "outputs": [],
   "source": []
  }
 ],
 "metadata": {
  "kernelspec": {
   "display_name": "Python 3",
   "language": "python",
   "name": "python3"
  },
  "language_info": {
   "codemirror_mode": {
    "name": "ipython",
    "version": 3
   },
   "file_extension": ".py",
   "mimetype": "text/x-python",
   "name": "python",
   "nbconvert_exporter": "python",
   "pygments_lexer": "ipython3",
   "version": "3.6.4"
  }
 },
 "nbformat": 4,
 "nbformat_minor": 2
}
