{
  "nbformat": 4,
  "nbformat_minor": 0,
  "metadata": {
    "colab": {
      "name": "Analise de dados e BigData 2.ipynb",
      "provenance": [],
      "authorship_tag": "ABX9TyNbG3KFlr4lGqqKYmDxlcg1",
      "include_colab_link": true
    },
    "kernelspec": {
      "name": "python3",
      "display_name": "Python 3"
    },
    "language_info": {
      "name": "python"
    }
  },
  "cells": [
    {
      "cell_type": "markdown",
      "metadata": {
        "id": "view-in-github",
        "colab_type": "text"
      },
      "source": [
        "<a href=\"https://colab.research.google.com/github/luizchirutti/Python/blob/master/Analise_de_dados_e_BigData_2.ipynb\" target=\"_parent\"><img src=\"https://colab.research.google.com/assets/colab-badge.svg\" alt=\"Open In Colab\"/></a>"
      ]
    },
    {
      "cell_type": "code",
      "execution_count": 5,
      "metadata": {
        "id": "k-I4tNvXeJOW"
      },
      "outputs": [],
      "source": [
        "def soma(x, y):\n",
        "  return x + y\n",
        "\n",
        "  print(soma(10, 20))\n",
        "  print(soma('rsrs', str(10)))"
      ]
    },
    {
      "cell_type": "code",
      "source": [
        "def soma_lista_nao_usual(xs):\n",
        "  r = 0\n",
        "  for i in range(len(xs)):\n",
        "    r+= xs[i]\n",
        "    return r\n",
        "\n",
        "def soma_lista(xs):\n",
        "  r = 0\n",
        "  for x in xs:\n",
        "    r += x\n",
        "    return r\n",
        "\n",
        "\n",
        "    print(soma_lista([2, 5, 1, 2, 5]))"
      ],
      "metadata": {
        "id": "KWJahJWxfqV-"
      },
      "execution_count": 12,
      "outputs": []
    },
    {
      "cell_type": "code",
      "source": [
        "list(range(10))"
      ],
      "metadata": {
        "colab": {
          "base_uri": "https://localhost:8080/"
        },
        "id": "9xam6TBgf8wr",
        "outputId": "634fb0d9-77e7-4ad1-84da-d1c01e70b69e"
      },
      "execution_count": 10,
      "outputs": [
        {
          "output_type": "execute_result",
          "data": {
            "text/plain": [
              "[0, 1, 2, 3, 4, 5, 6, 7, 8, 9]"
            ]
          },
          "metadata": {},
          "execution_count": 10
        }
      ]
    },
    {
      "cell_type": "code",
      "source": [
        "x = int(input('Entre com um numero'))\n",
        "y = int(input('Entre com um numero'))\n",
        "\n",
        "print (x + y)\n"
      ],
      "metadata": {
        "colab": {
          "base_uri": "https://localhost:8080/"
        },
        "id": "wCMcRjJKhaDo",
        "outputId": "57a4d1d4-7959-49ad-89d0-79cfccbc6763"
      },
      "execution_count": 13,
      "outputs": [
        {
          "output_type": "stream",
          "name": "stdout",
          "text": [
            "Entre com um numero2\n",
            "Entre com um numero2\n",
            "4\n"
          ]
        }
      ]
    }
  ]
}