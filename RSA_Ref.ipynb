{
  "nbformat": 4,
  "nbformat_minor": 0,
  "metadata": {
    "colab": {
      "provenance": [],
      "authorship_tag": "ABX9TyN/X191zACJ/DJIg+Ws4vZ3",
      "include_colab_link": true
    },
    "kernelspec": {
      "name": "python3",
      "display_name": "Python 3"
    },
    "language_info": {
      "name": "python"
    }
  },
  "cells": [
    {
      "cell_type": "markdown",
      "metadata": {
        "id": "view-in-github",
        "colab_type": "text"
      },
      "source": [
        "<a href=\"https://colab.research.google.com/github/luizchirutti/Python/blob/master/RSA_Ref.ipynb\" target=\"_parent\"><img src=\"https://colab.research.google.com/assets/colab-badge.svg\" alt=\"Open In Colab\"/></a>"
      ]
    },
    {
      "cell_type": "code",
      "execution_count": 1,
      "metadata": {
        "id": "8pqyvQd1Enjt"
      },
      "outputs": [],
      "source": [
        "import random\n",
        "import math\n",
        "\n",
        "def generate_keys():\n",
        "    # Escolhendo dois números primos aleatórios\n",
        "    p = random.randint(100, 1000)\n",
        "    while not is_prime(p):\n",
        "        p = random.randint(100, 1000)\n",
        "\n",
        "    q = random.randint(100, 1000)\n",
        "    while not is_prime(q) or p == q:\n",
        "        q = random.randint(100, 1000)\n",
        "\n",
        "    # Calculando n e phi\n",
        "    n = p * q\n",
        "    phi = (p - 1) * (q - 1)\n",
        "\n",
        "    # Escolhendo um número aleatório e calculando o inverso modular\n",
        "    e = random.randint(2, phi - 1)\n",
        "    while math.gcd(e, phi) != 1:\n",
        "        e = random.randint(2, phi - 1)\n",
        "    d = mod_inverse(e, phi)\n",
        "\n",
        "    # Retornando as chaves pública e privada\n",
        "    public_key = (n, e)\n",
        "    private_key = (n, d)\n",
        "\n",
        "    return public_key, private_key\n",
        "\n",
        "\n",
        "# Função para verificar se um número é primo\n",
        "def is_prime(n):\n",
        "    if n <= 1:\n",
        "        return False\n",
        "    elif n <= 3:\n",
        "        return True\n",
        "    elif n % 2 == 0 or n % 3 == 0:\n",
        "        return False\n",
        "    i = 5\n",
        "    while i * i <= n:\n",
        "        if n % i == 0 or n % (i + 2) == 0:\n",
        "            return False\n",
        "        i += 6\n",
        "    return True\n",
        "\n",
        "\n",
        "# Função para calcular o inverso modular\n",
        "def mod_inverse(a, m):\n",
        "    m0 = m\n",
        "    y = 0\n",
        "    x = 1\n",
        "\n",
        "    if m == 1:\n",
        "        return 0\n",
        "\n",
        "    while a > 1:\n",
        "        q = a // m\n",
        "        t = m\n",
        "        m = a % m\n",
        "        a = t\n",
        "        t = y\n",
        "        y = x - q * y\n",
        "        x = t\n",
        "\n",
        "    if x < 0:\n",
        "        x = x + m0\n",
        "\n",
        "    return x\n"
      ]
    },
    {
      "cell_type": "code",
      "source": [
        "# Função para criptografar uma mensagem usando a chave pública\n",
        "def encrypt(public_key, message):\n",
        "    n, e = public_key\n",
        "    encrypted_message = [pow(ord(char), e, n) for char in message]\n",
        "    return encrypted_message\n",
        "\n",
        "\n",
        "\n"
      ],
      "metadata": {
        "id": "m8A1rm2GEv9f"
      },
      "execution_count": 2,
      "outputs": []
    },
    {
      "cell_type": "code",
      "source": [
        "\n",
        "# Função para descriptografar uma mensagem usando a chave privada\n",
        "def decrypt(private_key, message):\n",
        "    n, d = private_key\n",
        "    decrypted_message = [chr(pow(char, d, n)) for char in message]\n",
        "    return ''.join(decrypted_message)\n"
      ],
      "metadata": {
        "id": "-3pX8SryEzXY"
      },
      "execution_count": 3,
      "outputs": []
    },
    {
      "cell_type": "code",
      "source": [
        "# Gerando as chaves\n",
        "public_key, private_key = generate_keys()\n",
        "\n",
        "# Mensagem a ser criptografada\n",
        "message = \"Esta é uma mensagem secreta\"\n",
        "\n",
        "# Criptografando a mensagem\n",
        "encrypted_message = encrypt(public_key, message)\n",
        "\n",
        "# Imprimindo a mensagem criptografada\n",
        "print(\"Mensagem criptografada:\")\n",
        "print(encrypted_message)\n",
        "\n",
        "# Descriptografando a mensagem\n",
        "decrypted_message = decrypt(private_key, encrypted_message)\n",
        "\n",
        "# Imprimindo a mensagem descriptografada\n",
        "print(\"Mensagem descriptografada:\")\n",
        "print(decrypted_message)\n"
      ],
      "metadata": {
        "colab": {
          "base_uri": "https://localhost:8080/"
        },
        "id": "EHPBJFnGE_D_",
        "outputId": "44a8a4cf-8f25-409b-db30-ee26e22fc92e"
      },
      "execution_count": 4,
      "outputs": [
        {
          "output_type": "stream",
          "name": "stdout",
          "text": [
            "Mensagem criptografada:\n",
            "[20235, 163, 19652, 5870, 26584, 11266, 26584, 31824, 8857, 5870, 26584, 8857, 26465, 38775, 163, 5870, 39378, 26465, 8857, 26584, 163, 26465, 3549, 24283, 26465, 19652, 5870]\n",
            "Mensagem descriptografada:\n",
            "Esta é uma mensagem secreta\n"
          ]
        }
      ]
    }
  ]
}