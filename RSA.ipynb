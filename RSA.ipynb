{
  "nbformat": 4,
  "nbformat_minor": 0,
  "metadata": {
    "colab": {
      "provenance": [],
      "authorship_tag": "ABX9TyPl8QiXevKnnMgeJBQX72cZ",
      "include_colab_link": true
    },
    "kernelspec": {
      "name": "python3",
      "display_name": "Python 3"
    },
    "language_info": {
      "name": "python"
    }
  },
  "cells": [
    {
      "cell_type": "markdown",
      "metadata": {
        "id": "view-in-github",
        "colab_type": "text"
      },
      "source": [
        "<a href=\"https://colab.research.google.com/github/luizchirutti/Python/blob/master/RSA.ipynb\" target=\"_parent\"><img src=\"https://colab.research.google.com/assets/colab-badge.svg\" alt=\"Open In Colab\"/></a>"
      ]
    },
    {
      "cell_type": "markdown",
      "source": [
        "Código de criptografia com numeros primos"
      ],
      "metadata": {
        "id": "qtd-gE5z-Iss"
      }
    },
    {
      "cell_type": "code",
      "source": [
        "import random\n",
        "\n",
        "# Função para verificar se um número é primo\n",
        "def é_primo(n):\n",
        "    if n <= 1:\n",
        "        return False\n",
        "    elif n <= 3:\n",
        "        return True\n",
        "    elif n % 2 == 0 or n % 3 == 0:\n",
        "        return False\n",
        "    i = 5\n",
        "    while i * i <= n:\n",
        "        if n % i == 0 or n % (i + 2) == 0:\n",
        "            return False\n",
        "        i += 6\n",
        "    return True\n",
        "\n",
        "# Função para gerar um número primo aleatório com um certo número de bits\n",
        "def gerar_primo(bits):\n",
        "    while True:\n",
        "        p = random.randrange(2**(bits-1), 2**bits)\n",
        "        if é_primo(p):\n",
        "            return p\n",
        "\n",
        "# Função para calcular o máximo divisor comum\n",
        "def mdc(a, b):\n",
        "    while b != 0:\n",
        "        a, b = b, a % b\n",
        "    return a\n",
        "\n",
        "# Função para calcular o inverso multiplicativo de a módulo b\n",
        "def inverso_modular(a, b):\n",
        "    if mdc(a, b) != 1:\n",
        "        return None\n",
        "    u1, u2, u3 = 1, 0, a\n",
        "    v1, v2, v3 = 0, 1, b\n",
        "    while v3 != 0:\n",
        "        q = u3 // v3\n",
        "        v1, v2, v3, u1, u2, u3 = (u1 - q*v1), (u2 - q*v2), (u3 - q*v3), v1, v2, v3\n",
        "    return u1 % b\n",
        "\n",
        "# Função para gerar as chaves pública e privada\n",
        "def gerar_chaves(bits):\n",
        "    p = gerar_primo(bits)\n",
        "    q = gerar_primo(bits)\n",
        "    n = p * q\n",
        "    phi = (p - 1) * (q - 1)\n",
        "    e = 65537  # um valor comum para e\n",
        "    d = inverso_modular(e, phi)\n",
        "    return ((e, n), (d, n))\n",
        "\n",
        "# Função para criptografar uma mensagem\n",
        "def criptografar(pk, mensagem):\n",
        "    e, n = pk\n",
        "    mensagem_cifrada = [pow(ord(char), e, n) for char in mensagem]\n",
        "    return mensagem_cifrada\n",
        "\n",
        "# Função para descriptografar uma mensagem\n",
        "def descriptografar(pk, mensagem_cifrada):\n",
        "    d, n = pk\n",
        "    mensagem = [chr(pow(char, d, n)) for char in mensagem_cifrada]\n",
        "    return ''.join(mensagem)\n"
      ],
      "metadata": {
        "id": "Xd7QAYbD-G9_"
      },
      "execution_count": 5,
      "outputs": []
    }
  ]
}